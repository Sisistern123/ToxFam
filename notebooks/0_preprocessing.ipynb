{
 "cells": [
  {
   "metadata": {},
   "cell_type": "code",
   "outputs": [],
   "execution_count": null,
   "source": [
    "import pandas as pd\n",
    "from Bio import SeqIO\n",
    "from iterstrat.ml_stratifiers import MultilabelStratifiedShuffleSplit\n",
    "import matplotlib.pyplot as plt\n",
    "import matplotlib.cm as cm\n",
    "from matplotlib.pyplot import tight_layout\n",
    "\n",
    "from sklearn.preprocessing import MultiLabelBinarizer\n",
    "\n",
    "from pymmseqs.commands import easy_cluster\n",
    "import os\n",
    "import re"
   ],
   "id": "f74249d83a995882"
  },
  {
   "metadata": {},
   "cell_type": "markdown",
   "source": [
    "# Toxins\n",
    "(taxonomy_id:33208) AND (cc_tissue_specificity:venom) AND (reviewed:true) AND (keyword:KW-0800) AND (fragment:false)"
   ],
   "id": "69c97c8b2e6f3af4"
  },
  {
   "metadata": {},
   "cell_type": "code",
   "outputs": [],
   "execution_count": null,
   "source": [
    "tox = pd.read_csv('../data/raw/tox.tsv', sep='\\t')\n",
    "tox = tox.dropna(subset=[\"Protein families\"])\n",
    "\n",
    "tox"
   ],
   "id": "4ec5111cfca456ca"
  },
  {
   "metadata": {},
   "cell_type": "code",
   "outputs": [],
   "execution_count": null,
   "source": [
    "tox['Protein families'] = tox['Protein families'].str.split(',').str[0]\n",
    "tox['Protein families'] = tox['Protein families'].str.split(';').str[0]"
   ],
   "id": "65b617b59d1a7232"
  },
  {
   "metadata": {},
   "cell_type": "code",
   "outputs": [],
   "execution_count": null,
   "source": [
    "tox['Protein families'] = tox['Protein families'].replace('I1 superfamily', 'Conotoxin I1 superfamily')\n",
    "tox['Protein families'] = tox['Protein families'].replace('O1 superfamily', 'Conotoxin O1 superfamily')\n",
    "tox['Protein families'] = tox['Protein families'].replace('O2 superfamily', 'Conotoxin O2 superfamily')\n",
    "tox['Protein families'] = tox['Protein families'].replace('E superfamily', 'Conotoxin E superfamily')\n",
    "tox['Protein families'] = tox['Protein families'].replace('F superfamily', 'Conotoxin F superfamily')\n",
    "tox['Protein families'] = tox['Protein families'].replace('Conotoxin M family', 'Conotoxin M superfamily')\n",
    "tox['Protein families'] = tox['Protein families'].replace('Conotoxin B2 family', 'Conotoxin B2 superfamily')\n",
    "tox['Protein families'] = tox['Protein families'].replace('Conotoxin O1 family', 'Conotoxin O1 superfamily')\n",
    "tox['Protein families'] = tox['Protein families'].replace('Conotoxin O2 family', 'Conotoxin O2 superfamily')"
   ],
   "id": "7c3dbd8e02ec9fa"
  },
  {
   "metadata": {},
   "cell_type": "code",
   "outputs": [],
   "execution_count": null,
   "source": [
    "mapping = {\n",
    "    r'Conotoxin.*': 'Conotoxin family',\n",
    "    r'Neurotoxin.*': 'Neurotoxin family',\n",
    "    r'Scoloptoxin.*|Scolopendra.*': 'Scoloptoxin family',\n",
    "    r'Caterpillar.*': 'Caterpillar family',\n",
    "    r'Teretoxin.*': 'Teretoxin family',\n",
    "    r'Limacoditoxin.*': 'Limacoditoxin family',\n",
    "    r'Scutigerotoxin.*': 'Scutigerotoxin family',\n",
    "    r'Cationic peptide.*': 'Cationic peptide family',\n",
    "    r'Formicidae venom.*': 'Formicidae venom family',\n",
    "    r'Bradykinin-potentiating peptide family|Natriuretic peptide family': 'Natriuretic, Bradykinin potentiating peptide family',\n",
    "    r'.*phospholipase.*|.*Phospholipase.*': 'Phospholipase family'\n",
    "}\n",
    "\n",
    "# Apply mapping\n",
    "for pattern, replacement in mapping.items():\n",
    "    tox['Protein families'] = tox['Protein families'].str.replace(pattern, replacement, regex=True)\n",
    "\n",
    "# everything with less than 3 samples is \"other\"\n",
    "tox[\"Protein families\"] = tox[\"Protein families\"].where(tox[\"Protein families\"].map(tox[\"Protein families\"].value_counts()) >= 3, \"other\")\n",
    "\n",
    "tox['Protein families'].value_counts()"
   ],
   "id": "205c453acfd5dd83"
  },
  {
   "metadata": {},
   "cell_type": "markdown",
   "source": [
    "# Non-Toxins\n",
    "(taxonomy_id:33208) AND (reviewed:true) AND (fragment:false) NOT (keyword:KW-0800) AND ((existence:1) OR (existence:2))"
   ],
   "id": "56905ed956085503"
  },
  {
   "metadata": {},
   "cell_type": "code",
   "outputs": [],
   "execution_count": null,
   "source": [
    "nontox = pd.read_csv('../data/raw/nontox.tsv', sep='\\t')\n",
    "nontox"
   ],
   "id": "bd735e9a12741e57"
  },
  {
   "metadata": {},
   "cell_type": "markdown",
   "source": "### Fasta Generation",
   "id": "a06152a19c57315b"
  },
  {
   "metadata": {},
   "cell_type": "code",
   "outputs": [],
   "execution_count": null,
   "source": [
    "def write_fasta(df, filename):\n",
    "    \"\"\"Writes a DataFrame to a FASTA file.\"\"\"\n",
    "    with open(filename, \"w\") as f:\n",
    "        for _, row in df.iterrows():\n",
    "            f.write(f\">{row['Entry']}\\n{row['Sequence']}\\n\")\n",
    "\n",
    "write_fasta(tox, \"../data/raw/tox.fasta\")\n",
    "write_fasta(nontox, \"../data/raw/nontox.fasta\")"
   ],
   "id": "a9cda89593a1ce6c"
  },
  {
   "metadata": {},
   "cell_type": "markdown",
   "source": "## Remove SPs",
   "id": "6592f5d4fbae204b"
  },
  {
   "metadata": {},
   "cell_type": "code",
   "outputs": [],
   "execution_count": null,
   "source": "!signalp6 --fastafile ../data/raw/tox.fasta --output_dir ../data/sp6/tox/ --organism eukarya --mode fast --model_dir /Users/selin/Desktop/Uni/signalp6/signalp-6-package/models/",
   "id": "11d25d0e48a81a9"
  },
  {
   "metadata": {},
   "cell_type": "code",
   "outputs": [],
   "execution_count": null,
   "source": "!signalp6 --fastafile ../data/nontox.fasta --output_dir ../data/sp6/nontox/ --organism eukarya --mode fast --model_dir /Users/selin/Desktop/Uni/signalp6/signalp-6-package/models/",
   "id": "27251f00bf54510e"
  },
  {
   "metadata": {},
   "cell_type": "code",
   "outputs": [],
   "execution_count": null,
   "source": [
    "def fasta_to_dataframe(fasta_file):\n",
    "    records = SeqIO.parse(fasta_file, \"fasta\")\n",
    "    data = []\n",
    "\n",
    "    for record in records:\n",
    "        id_part = record.id.split('|')[-1]\n",
    "        data.append({\"identifier\": id_part, \"Sequence\": str(record.seq)})\n",
    "\n",
    "    df = pd.DataFrame(data)\n",
    "    return df\n",
    "\n",
    "# SignalP6 all (processed) sequences\n",
    "proc_tox = fasta_to_dataframe(\"../data/sp6/tox/processed_entries.fasta\")\n",
    "proc_nontox = fasta_to_dataframe(\"../data/sp6/nontox/processed_entries.fasta\")\n",
    "#proc_tox = proc_tox.rename(columns={'Sequence': 'Sequence'})\n",
    "#proc"
   ],
   "id": "359e98919b17aa97"
  },
  {
   "metadata": {},
   "cell_type": "code",
   "outputs": [],
   "execution_count": null,
   "source": "proc_tox",
   "id": "ca6a55dd8c20e348"
  },
  {
   "metadata": {},
   "cell_type": "code",
   "outputs": [],
   "execution_count": null,
   "source": [
    "gff3_tox = pd.read_csv('../data/sp6/tox/output.gff3', sep='\\t', comment='#', header=None)\n",
    "gff3_nontox = pd.read_csv('../data/sp6/nontox/output.gff3', sep='\\t', comment='#', header=None)\n",
    "\n",
    "cols = [\n",
    "    'identifier', 'source', 'feature_type', 'start', 'end',\n",
    "    'score', 'strand', 'phase', 'attributes'\n",
    "]\n",
    "gff3_tox.columns = cols\n",
    "gff3_nontox.columns = cols\n",
    "\n",
    "def extract_seqid(full_seqid):\n",
    "    return full_seqid.split('|')[-1].split(' ')[0]\n",
    "\n",
    "gff3_tox['identifier'] = gff3_tox['identifier'].apply(extract_seqid)\n",
    "gff3_nontox['identifier'] = gff3_nontox['identifier'].apply(extract_seqid)\n",
    "\n",
    "gff3_tox = pd.merge(gff3_tox, proc_tox, on='identifier')\n",
    "gff3_nontox = pd.merge(gff3_nontox, proc_nontox, on='identifier')"
   ],
   "id": "31434d3f76ba8ed1"
  },
  {
   "metadata": {},
   "cell_type": "code",
   "outputs": [],
   "execution_count": null,
   "source": "gff3_tox[gff3_tox['score'] < 0.8]",
   "id": "1a3ee0aa55dbef89"
  },
  {
   "metadata": {},
   "cell_type": "markdown",
   "source": "### merge with SP6 predictions",
   "id": "d6ce61b5375190bd"
  },
  {
   "metadata": {},
   "cell_type": "code",
   "outputs": [],
   "execution_count": null,
   "source": [
    "# Merge with tox, replacing 'Sequence' where Entry matches\n",
    "\n",
    "filtered = gff3_tox[gff3_tox['score'] > 0.8][['identifier', 'Sequence']]\n",
    "filtered = filtered.rename(columns={'identifier': 'Entry'})\n",
    "tox.update(filtered.set_index('Entry'))\n",
    "\n",
    "filtered = gff3_nontox[gff3_nontox['score'] > 0.8][['identifier', 'Sequence']]\n",
    "filtered = filtered.rename(columns={'identifier': 'Entry'})\n",
    "nontox.update(filtered.set_index('Entry'))"
   ],
   "id": "a54efa38a141d9a9"
  },
  {
   "metadata": {},
   "cell_type": "code",
   "outputs": [],
   "execution_count": null,
   "source": [
    "write_fasta(tox, \"../data/interm/tox_noSP.fasta\")\n",
    "write_fasta(nontox, \"../data/interm/nontox_noSP.fasta\")"
   ],
   "id": "61d4c872bf594d12"
  },
  {
   "metadata": {},
   "cell_type": "markdown",
   "source": [
    "## Clustering\n",
    "### run mmseqs2 90% sequence similarity clustering per protein family"
   ],
   "id": "ce8c458677ae1813"
  },
  {
   "metadata": {},
   "cell_type": "code",
   "outputs": [],
   "execution_count": null,
   "source": [
    "out_dir = \"../data/families/\"\n",
    "os.makedirs(out_dir, exist_ok=True)\n",
    "\n",
    "def sanitize_filename(name):\n",
    "    return re.sub(r\"[^a-zA-Z0-9_-]\", \"_\", name)\n",
    "\n",
    "failed = []\n",
    "\n",
    "for family, group in tox.groupby(\"Protein families\"):\n",
    "    safe_family = sanitize_filename(family)\n",
    "\n",
    "    fasta_path = os.path.join(out_dir, f\"{safe_family}.fasta\")\n",
    "    write_fasta(group, fasta_path)\n",
    "\n",
    "    # Create family-specific mmseqs directory\n",
    "    family_mmseqs_dir = os.path.join(\"/Users/selin/PycharmProjects/ToxFam/data/mmseqs\", safe_family)\n",
    "    os.makedirs(family_mmseqs_dir, exist_ok=True)\n",
    "\n",
    "    cluster_prefix = os.path.join(family_mmseqs_dir, \"cluster\")\n",
    "    tmp_dir = os.path.join(family_mmseqs_dir, \"tmp\")\n",
    "    os.makedirs(tmp_dir, exist_ok=True)\n",
    "\n",
    "    try:\n",
    "        easy_cluster(\n",
    "            fasta_files=fasta_path,\n",
    "            cluster_prefix=cluster_prefix,\n",
    "            tmp_dir=tmp_dir,\n",
    "            min_seq_id=0.9\n",
    "        )\n",
    "    except Exception as e:\n",
    "        print(f\"⚠️ Skipping {safe_family} due to error: {e}\")\n",
    "        failed.append((fasta_path, cluster_prefix, tmp_dir))\n",
    "\n",
    "# Print mmseqs commands for failures\n",
    "if failed:\n",
    "    print(\"\\n🔁 Manual mmseqs2 commands for failed entries:\\n\")\n",
    "    for fasta, out, tmp in failed:\n",
    "        print(f\"mmseqs easy-cluster {fasta} {out} {tmp} --min-seq-id 0.9\")"
   ],
   "id": "e948fa9640609ce2"
  },
  {
   "metadata": {},
   "cell_type": "code",
   "outputs": [],
   "execution_count": null,
   "source": [
    "mmseqs_base_dir = \"/Users/selin/PycharmProjects/ToxFam/data/mmseqs\"\n",
    "rep_seqs = []\n",
    "\n",
    "# Go through each family subdirectory\n",
    "for family_dir in os.listdir(mmseqs_base_dir):\n",
    "    full_path = os.path.join(mmseqs_base_dir, family_dir)\n",
    "    if not os.path.isdir(full_path):\n",
    "        continue\n",
    "\n",
    "    rep_fasta = os.path.join(full_path, \"cluster_rep_seq.fasta\")\n",
    "    if not os.path.exists(rep_fasta):\n",
    "        continue\n",
    "\n",
    "    # Parse FASTA and collect entries\n",
    "    for record in SeqIO.parse(rep_fasta, \"fasta\"):\n",
    "        rep_seqs.append({\n",
    "            \"Entry\": record.id,\n",
    "            \"Sequence\": str(record.seq),\n",
    "        })\n",
    "\n",
    "# Create DataFrame\n",
    "rep_df = pd.DataFrame(rep_seqs).merge(tox[[\"Entry\", \"Protein families\"]], on=\"Entry\", how=\"left\")\n",
    "rep_df"
   ],
   "id": "123dcc363520815f"
  },
  {
   "metadata": {},
   "cell_type": "code",
   "outputs": [],
   "execution_count": null,
   "source": [
    "rep_df[\"Protein families\"] = rep_df[\"Protein families\"].where(rep_df[\"Protein families\"].map(rep_df[\"Protein families\"].value_counts()) >= 3, \"other\")\n",
    "rep_df[\"Protein families\"].value_counts()"
   ],
   "id": "f2402e3e5b2206fc"
  },
  {
   "metadata": {},
   "cell_type": "markdown",
   "source": "### Train-Val-Test sets with 70:15:15 split",
   "id": "629adc507d8412df"
  },
  {
   "metadata": {},
   "cell_type": "code",
   "outputs": [],
   "execution_count": null,
   "source": [
    "# Ensure 'Protein families' is split only if not already a list\n",
    "rep_df['Protein families'] = rep_df['Protein families'].apply(lambda x: x.split(',') if isinstance(x, str) else x)\n",
    "\n",
    "# Create binary indicator matrix\n",
    "mlb = MultiLabelBinarizer()\n",
    "y = mlb.fit_transform(rep_df['Protein families'])\n",
    "\n",
    "# Save label classes (optional)\n",
    "label_classes = mlb.classes_\n",
    "\n",
    "# Train+val vs test split (test=15%)\n",
    "msss1 = MultilabelStratifiedShuffleSplit(n_splits=1, test_size=0.15, random_state=42)\n",
    "idx_train_val, idx_test = next(msss1.split(rep_df, y))\n",
    "\n",
    "rep_df_train_val = rep_df.iloc[idx_train_val].copy()  # add .copy() here\n",
    "y_train_val = y[idx_train_val]\n",
    "\n",
    "# Train vs val split (val = 15% / (1-0.15) ~0.176 of train_val)\n",
    "val_size = 0.15 / (1 - 0.15)\n",
    "msss2 = MultilabelStratifiedShuffleSplit(n_splits=1, test_size=val_size, random_state=42)\n",
    "idx_train, idx_val = next(msss2.split(rep_df_train_val, y_train_val))\n",
    "\n",
    "train_df = rep_df_train_val.iloc[idx_train].copy()  # add .copy() here\n",
    "val_df = rep_df_train_val.iloc[idx_val].copy()      # add .copy() here\n",
    "test_df = rep_df.iloc[idx_test].copy()              # add .copy() here\n",
    "\n",
    "# Join lists back to strings with .loc\n",
    "train_df.loc[:, 'Protein families'] = train_df['Protein families'].apply(lambda x: ','.join(x) if isinstance(x, list) else x)\n",
    "val_df.loc[:, 'Protein families'] = val_df['Protein families'].apply(lambda x: ','.join(x) if isinstance(x, list) else x)\n",
    "test_df.loc[:, 'Protein families'] = test_df['Protein families'].apply(lambda x: ','.join(x) if isinstance(x, list) else x)"
   ],
   "id": "20037ddeca7a6c13"
  },
  {
   "metadata": {},
   "cell_type": "code",
   "outputs": [],
   "execution_count": null,
   "source": [
    "def print_split_sizes(train_df, val_df, test_df, total_df):\n",
    "    print(f\"Train size: {len(train_df)} ({len(train_df)/len(total_df)*100:.2f}%)\")\n",
    "    print(f\"Validation size: {len(val_df)} ({len(val_df)/len(total_df)*100:.2f}%)\")\n",
    "    print(f\"Test size: {len(test_df)} ({len(test_df)/len(total_df)*100:.2f}%)\")\n",
    "print_split_sizes(train_df, val_df, test_df, rep_df)"
   ],
   "id": "569b14f623d58372"
  },
  {
   "metadata": {
    "ExecuteTime": {
     "end_time": "2025-05-24T14:40:41.372660Z",
     "start_time": "2025-05-24T14:40:41.003418Z"
    }
   },
   "cell_type": "code",
   "source": [
    "def plot_protein_family_distribution(train_df, val_df, test_df):\n",
    "    def get_family_percentages(df):\n",
    "        return df['Protein families'].str.split(',').explode().value_counts(normalize=True).sort_index()\n",
    "\n",
    "    train_pct = get_family_percentages(train_df)\n",
    "    val_pct = get_family_percentages(val_df)\n",
    "    test_pct = get_family_percentages(test_df)\n",
    "\n",
    "    all_families = sorted(set(train_pct.index) | set(val_pct.index) | set(test_pct.index))\n",
    "\n",
    "    train_pct = train_pct.reindex(all_families, fill_value=0)\n",
    "    val_pct = val_pct.reindex(all_families, fill_value=0)\n",
    "    test_pct = test_pct.reindex(all_families, fill_value=0)\n",
    "\n",
    "    df_pct = pd.DataFrame({\n",
    "        'Train': train_pct,\n",
    "        'Validation': val_pct,\n",
    "        'Test': test_pct\n",
    "    }).T\n",
    "\n",
    "    # Generate rainbow colormap with number of families colors\n",
    "    num_colors = len(all_families)\n",
    "    cmap = cm.get_cmap('rainbow', num_colors)\n",
    "    colors = [cmap(i) for i in range(num_colors)]\n",
    "\n",
    "    plt.figure(figsize=(10,7), dpi=300)\n",
    "    ax = df_pct.plot(kind='bar', stacked=True, color=colors)\n",
    "\n",
    "    plt.ylabel('Percentage within split')\n",
    "    plt.title('Protein Families Distribution Across Splits')\n",
    "\n",
    "    plt.legend(title='Protein Family', loc='upper center',\n",
    "           bbox_to_anchor=(0.49, -0.55),  # below plot\n",
    "           fontsize=4, title_fontsize='small', ncol=4)\n",
    "    plt.subplots_adjust(bottom=0.55)  # add space below plot for legend\n",
    "\n",
    "    plt.savefig('../data/train_distribution.png', dpi=300)\n",
    "    plt.show()\n",
    "\n",
    "# Usage\n",
    "plot_protein_family_distribution(train_df, val_df, test_df)"
   ],
   "id": "ca5ab6cc28520062",
   "outputs": [
    {
     "name": "stderr",
     "output_type": "stream",
     "text": [
      "/var/folders/6k/gr_1_h_97154rq71pm_q3jn40000gn/T/ipykernel_6741/2101714188.py:23: MatplotlibDeprecationWarning: The get_cmap function was deprecated in Matplotlib 3.7 and will be removed in 3.11. Use ``matplotlib.colormaps[name]`` or ``matplotlib.colormaps.get_cmap()`` or ``pyplot.get_cmap()`` instead.\n",
      "  cmap = cm.get_cmap('rainbow', num_colors)\n"
     ]
    },
    {
     "data": {
      "text/plain": [
       "<Figure size 3000x2100 with 0 Axes>"
      ]
     },
     "metadata": {},
     "output_type": "display_data"
    },
    {
     "data": {
      "text/plain": [
       "<Figure size 640x480 with 1 Axes>"
      ],
      "image/png": "[encoded data removed]"
     },
     "metadata": {},
     "output_type": "display_data"
    }
   ],
   "execution_count": 125
  },
  {
   "metadata": {},
   "cell_type": "code",
   "outputs": [],
   "execution_count": null,
   "source": "",
   "id": "1ce89cb8904072f7"
  },
  {
   "metadata": {},
   "cell_type": "markdown",
   "source": "# whatever",
   "id": "ea281f619f08884d"
  },
  {
   "metadata": {},
   "cell_type": "code",
   "outputs": [],
   "execution_count": null,
   "source": [
    "# # Get unique clusters and shuffle them\n",
    "# clusters = tox['Cluster'].unique()\n",
    "# np.random.seed(42)\n",
    "# np.random.shuffle(clusters)\n",
    "#\n",
    "# # Calculate total number of entries\n",
    "# total_entries = len(tox)\n",
    "#\n",
    "# # Define target sizes\n",
    "# train_target = 0.7 * total_entries\n",
    "# val_target = 0.15 * total_entries\n",
    "# test_target = 0.15 * total_entries\n",
    "#\n",
    "# # Initialize cluster lists\n",
    "# train_clusters, val_clusters, test_clusters = [], [], []\n",
    "#\n",
    "# # Initialize counters\n",
    "# train_count, val_count, test_count = 0, 0, 0\n",
    "#\n",
    "# # Assign clusters while considering their sizes\n",
    "# for cluster in clusters:\n",
    "#     cluster_size = len(tox[tox['Cluster'] == cluster])\n",
    "#\n",
    "#     if train_count + cluster_size <= train_target:\n",
    "#         train_clusters.append(cluster)\n",
    "#         train_count += cluster_size\n",
    "#     elif val_count + cluster_size <= val_target:\n",
    "#         val_clusters.append(cluster)\n",
    "#         val_count += cluster_size\n",
    "#     else:\n",
    "#         test_clusters.append(cluster)\n",
    "#         test_count += cluster_size\n",
    "#\n",
    "# # Filter original df by cluster IDs\n",
    "# train_df = tox[tox['Cluster'].isin(train_clusters)]\n",
    "# val_df = tox[tox['Cluster'].isin(val_clusters)]\n",
    "# test_df = tox[tox['Cluster'].isin(test_clusters)]\n",
    "#\n",
    "# # Shuffle each dataset\n",
    "# train_df = shuffle(train_df, random_state=42).reset_index(drop=True)\n",
    "# val_df = shuffle(val_df, random_state=42).reset_index(drop=True)\n",
    "# test_df = shuffle(test_df, random_state=42).reset_index(drop=True)\n",
    "#\n",
    "# # Print results\n",
    "# print(f\"Total entries: {total_entries}\")\n",
    "# print(f\"Train entries: {len(train_df)} ({len(train_df)/total_entries:.2%})\")\n",
    "# print(f\"Validation entries: {len(val_df)} ({len(val_df)/total_entries:.2%})\")\n",
    "# print(f\"Test entries: {len(test_df)} ({len(test_df)/total_entries:.2%})\")\n",
    "#\n",
    "# # Output dataframes\n",
    "# train_df, val_df, test_df"
   ],
   "id": "2a65c9fbea534379"
  },
  {
   "metadata": {},
   "cell_type": "code",
   "outputs": [],
   "execution_count": null,
   "source": [
    "write_fasta(train_df, \"./data/toxins_train.fasta\")\n",
    "write_fasta(val_df, \"./data/toxins_val.fasta\")\n",
    "write_fasta(test_df, \"./data/toxins_test.fasta\")"
   ],
   "id": "7d507535d4684dc6"
  },
  {
   "metadata": {},
   "cell_type": "markdown",
   "source": "### actual redundancy reduction, 50% sequence similarity for train, val and test",
   "id": "7974d91ddfa8e95e"
  },
  {
   "metadata": {},
   "cell_type": "code",
   "outputs": [],
   "execution_count": null,
   "source": "!mmseqs easy-cluster data/toxins_train.fasta data/mmseqs_0.5/train_cluster data/mmseqs_0.5/tmp --min-seq-id 0.5",
   "id": "597a12cad275b04d"
  },
  {
   "metadata": {},
   "cell_type": "code",
   "outputs": [],
   "execution_count": null,
   "source": "!mmseqs easy-cluster data/toxins_val.fasta data/mmseqs_0.5/val_cluster data/mmseqs_0.5/tmp --min-seq-id 0.5",
   "id": "19cffb656f6d93d5"
  },
  {
   "metadata": {},
   "cell_type": "code",
   "outputs": [],
   "execution_count": null,
   "source": "!mmseqs easy-cluster data/toxins_test.fasta data/mmseqs_0.5/test_cluster data/mmseqs_0.5/tmp --min-seq-id 0.5",
   "id": "3a5e00caf02770bb"
  },
  {
   "metadata": {},
   "cell_type": "code",
   "outputs": [],
   "execution_count": null,
   "source": [
    "rep_seq_files = {\n",
    "    \"Train_Cluster_Rep\": \"data/mmseqs_0.5/train_cluster_rep_seq.fasta\",\n",
    "    \"Val_Cluster_Rep\": \"data/mmseqs_0.5/val_cluster_rep_seq.fasta\",\n",
    "    \"Test_Cluster_Rep\": \"data/mmseqs_0.5/test_cluster_rep_seq.fasta\",\n",
    "}\n",
    "\n",
    "for col, file in rep_seq_files.items():\n",
    "    rep_seq_ids = {record.id for record in SeqIO.parse(file, \"fasta\")}\n",
    "    df[col] = df['Entry'].isin(rep_seq_ids)\n",
    "\n",
    "df"
   ],
   "id": "74d836023ce486c5"
  },
  {
   "metadata": {},
   "cell_type": "code",
   "outputs": [],
   "execution_count": null,
   "source": [
    "all_50_pct_seq = (\n",
    "    tox[\"Train_Cluster_Rep\"].sum().item() +\n",
    "    tox[\"Val_Cluster_Rep\"].sum().item() +\n",
    "    tox[\"Test_Cluster_Rep\"].sum().item()\n",
    ")\n",
    "print(\"All representative sequences after 50% redundancy reduction:\", all_50_pct_seq)\n",
    "print(f\"Train entries: {tox[\"Train_Cluster_Rep\"].sum().item()} ({tox[\"Train_Cluster_Rep\"].sum().item()/all_50_pct_seq:.2%})\")\n",
    "\n",
    "print(f\"Validation entries: {tox[\"Val_Cluster_Rep\"].sum().item()} ({tox[\"Val_Cluster_Rep\"].sum().item()/all_50_pct_seq:.2%})\")\n",
    "print(f\"Test entries: {tox[\"Test_Cluster_Rep\"].sum().item()} ({tox[\"Test_Cluster_Rep\"].sum().item()/all_50_pct_seq:.2%})\")"
   ],
   "id": "1815e29f825226c0"
  },
  {
   "metadata": {},
   "cell_type": "code",
   "outputs": [],
   "execution_count": null,
   "source": [
    "train_val_test_data = tox[tox[[\"Train_Cluster_Rep\", \"Val_Cluster_Rep\", \"Test_Cluster_Rep\"]].any(axis=1)]\n",
    "train_val_test_data"
   ],
   "id": "9a75de155ed0fd99"
  },
  {
   "metadata": {},
   "cell_type": "code",
   "outputs": [],
   "execution_count": null,
   "source": [
    "print(\"All representative sequences after 50% redundancy reduction:\", len(tox))\n",
    "print(f\"Train entries: {tox['Train_Cluster_Rep'].sum()} ({tox['Train_Cluster_Rep'].sum()/len(tox):.2%})\")\n",
    "print(f\"Validation entries: {tox['Val_Cluster_Rep'].sum()} ({tox['Val_Cluster_Rep'].sum()/len(tox):.2%})\")\n",
    "print(f\"Test entries: {tox['Test_Cluster_Rep'].sum()} ({tox['Test_Cluster_Rep'].sum()/len(tox):.2%})\")"
   ],
   "id": "ca30af736a30c968"
  },
  {
   "metadata": {},
   "cell_type": "code",
   "outputs": [],
   "execution_count": null,
   "source": "tox[\"Protein families\"].value_counts()",
   "id": "dca5a5a48d8ae3fb"
  },
  {
   "metadata": {},
   "cell_type": "code",
   "outputs": [],
   "execution_count": null,
   "source": [
    "print(tox[\"Protein families\"].value_counts()[tox[\"Protein families\"].value_counts() <= 10].sum())\n",
    "tox[\"Protein families\"].value_counts()[tox[\"Protein families\"].value_counts() <= 10]"
   ],
   "id": "8b59a67fed49ad06"
  },
  {
   "metadata": {},
   "cell_type": "code",
   "outputs": [],
   "execution_count": null,
   "source": [
    "print(tox[\"Protein families\"].value_counts()[tox[\"Protein families\"].value_counts() > 10].sum())\n",
    "tox[\"Protein families\"].value_counts()[tox[\"Protein families\"].value_counts() > 10]"
   ],
   "id": "fdb67a34602fc70"
  },
  {
   "metadata": {},
   "cell_type": "markdown",
   "source": [
    "## Remove SPs\n",
    "!signalp6 --fastafile data/nontox.fasta --output_dir data/sp6/ --organism eukarya --mode fast --model_dir /Users/selin/Desktop/Uni/signalp6/signalp-6-package/models/"
   ],
   "id": "21273ea949727afa"
  },
  {
   "metadata": {},
   "cell_type": "code",
   "outputs": [],
   "execution_count": null,
   "source": [
    "def fasta_to_dataframe(fasta_file):\n",
    "    records = SeqIO.parse(fasta_file, \"fasta\")\n",
    "    data = []\n",
    "\n",
    "    for record in records:\n",
    "        id_part = record.id.split('|')[-1]\n",
    "        data.append({\"identifier\": id_part, \"Sequence\": str(record.seq)})\n",
    "\n",
    "    df = pd.DataFrame(data)\n",
    "    return df\n",
    "\n",
    "\n",
    "# SignalP6 processed sequences (input: 5,181 or 21,484 seqs)\n",
    "proc = fasta_to_dataframe(\"../data/SP6/processed_entries.fasta\")\n",
    "proc = proc.rename(columns={'Sequence': 'Sequence'})\n",
    "proc\n",
    "gff3 = pd.read_csv('../data/SP6/output.gff3', sep='\\t', comment='#', header=None)\n",
    "\n",
    "gff3.columns = [\n",
    "    'identifier', 'source', 'feature_type', 'start', 'end',\n",
    "    'score', 'strand', 'phase', 'attributes'\n",
    "]\n",
    "\n",
    "\n",
    "def extract_seqid(full_seqid):\n",
    "    return full_seqid.split('|')[-1].split(' ')[0]\n",
    "\n",
    "\n",
    "gff3['identifier'] = gff3['identifier'].apply(extract_seqid)\n",
    "gff3 = pd.merge(gff3, proc, on='identifier')\n",
    "gff3"
   ],
   "id": "41100b41494138cf"
  }
 ],
 "metadata": {
  "kernelspec": {
   "display_name": "Python 3",
   "language": "python",
   "name": "python3"
  },
  "language_info": {
   "codemirror_mode": {
    "name": "ipython",
    "version": 2
   },
   "file_extension": ".py",
   "mimetype": "text/x-python",
   "name": "python",
   "nbconvert_exporter": "python",
   "pygments_lexer": "ipython2",
   "version": "2.7.6"
  }
 },
 "nbformat": 4,
 "nbformat_minor": 5
}
