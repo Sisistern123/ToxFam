{
 "cells": [
  {
   "metadata": {},
   "cell_type": "code",
   "outputs": [],
   "execution_count": null,
   "source": [
    "import pandas as pd\n",
    "from Bio import SeqIO\n",
    "import numpy as np"
   ],
   "id": "4ce2d4dbb0f0c937"
  },
  {
   "metadata": {},
   "cell_type": "code",
   "outputs": [],
   "execution_count": null,
   "source": [
    "upar = pd.read_csv('./data/SD1_Dataset_and_information.csv')\n",
    "upar"
   ],
   "id": "869342b76e26fb43"
  },
  {
   "metadata": {},
   "cell_type": "code",
   "outputs": [],
   "execution_count": null,
   "source": [
    "upar[\"Fragment\"] = upar[\"full_seq\"].apply(lambda x: \"full_seq (SP)\" if pd.notna(x) else \"mature_seq (NO_SP)\")\n",
    "upar"
   ],
   "id": "dd1b3d79286d97ba"
  },
  {
   "metadata": {},
   "cell_type": "code",
   "outputs": [],
   "execution_count": null,
   "source": [
    "scolop = pd.read_csv('./data/scolop.csv')\n",
    "scolop"
   ],
   "id": "2e2df4456a3b526a"
  },
  {
   "metadata": {},
   "cell_type": "code",
   "outputs": [],
   "execution_count": null,
   "source": [
    "scolop = scolop.loc[scolop[\"Scoloptoxin?\"] == \"Scoloptoxin\"]\n",
    "scolop"
   ],
   "id": "88a575ca105b1f89"
  },
  {
   "metadata": {},
   "cell_type": "code",
   "outputs": [],
   "execution_count": null,
   "source": [
    "fasta_dict = {record.id: str(record.seq) for record in SeqIO.parse(\"data/scolop.fasta\", \"fasta\")}\n",
    "\n",
    "scolop[\"full_seq\"] = scolop[\"identifier\"].map(fasta_dict)"
   ],
   "id": "3b97eef4abb9af6e"
  },
  {
   "metadata": {},
   "cell_type": "code",
   "outputs": [],
   "execution_count": null,
   "source": "scolop",
   "id": "35bb4d668c34372b"
  },
  {
   "metadata": {},
   "cell_type": "code",
   "outputs": [],
   "execution_count": null,
   "source": [
    "scolop[\"Fragment\"] = scolop[\"full_seq\"].apply(lambda x: \"full_seq (SP)\" if pd.notna(x) else \"mature_seq (NO_SP)\")\n",
    "\n",
    "upar = pd.concat([upar, scolop], ignore_index=True)\n",
    "upar"
   ],
   "id": "36ddb9cb1cfdaf56"
  },
  {
   "metadata": {},
   "cell_type": "code",
   "outputs": [],
   "execution_count": null,
   "source": "upar[\"mature_seq\"].value_counts()",
   "id": "6d85a0f9373f77e9"
  },
  {
   "metadata": {},
   "cell_type": "code",
   "outputs": [],
   "execution_count": null,
   "source": "upar.to_csv(\"data/upar.csv\", columns=[\"identifier\", \"group\", \"taxon_of_interest\",\"family\", \"genus\", \"species\", \"Fragment\", \"Scoloptoxin?\"], index=False)",
   "id": "94cf7020b6ce91b1"
  },
  {
   "metadata": {},
   "cell_type": "code",
   "outputs": [],
   "execution_count": null,
   "source": [
    "with open(\"./data/upar.fasta\", \"w\") as f:\n",
    "    for _, row in upar.iterrows():\n",
    "        sequence = row[\"full_seq\"] if \"full_seq (SP)\" in row[\"Fragment\"] else row[\"mature_seq\"]\n",
    "        f.write(f\">{row['identifier']}\\n{sequence}\\n\")"
   ],
   "id": "ff4b5d7c085f81e"
  },
  {
   "metadata": {},
   "cell_type": "code",
   "outputs": [],
   "execution_count": null,
   "source": "",
   "id": "6296aa676dd6cbef"
  }
 ],
 "metadata": {
  "kernelspec": {
   "display_name": "Python 3",
   "language": "python",
   "name": "python3"
  },
  "language_info": {
   "codemirror_mode": {
    "name": "ipython",
    "version": 2
   },
   "file_extension": ".py",
   "mimetype": "text/x-python",
   "name": "python",
   "nbconvert_exporter": "python",
   "pygments_lexer": "ipython2",
   "version": "2.7.6"
  }
 },
 "nbformat": 4,
 "nbformat_minor": 5
}
