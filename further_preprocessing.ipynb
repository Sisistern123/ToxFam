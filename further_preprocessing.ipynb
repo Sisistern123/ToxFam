{
 "cells": [
  {
   "cell_type": "code",
   "id": "initial_id",
   "metadata": {
    "collapsed": true,
    "ExecuteTime": {
     "end_time": "2025-03-12T12:45:34.488286Z",
     "start_time": "2025-03-12T12:45:34.486009Z"
    }
   },
   "source": [
    "import pandas as pd\n",
    "import numpy as np\n",
    "import torch\n"
   ],
   "outputs": [],
   "execution_count": 56
  },
  {
   "metadata": {
    "ExecuteTime": {
     "end_time": "2025-03-12T12:45:34.655793Z",
     "start_time": "2025-03-12T12:45:34.645525Z"
    }
   },
   "cell_type": "code",
   "source": [
    "tox = pd.read_csv('data/toxins_no_na.tsv', sep='\\t')\n",
    "tox"
   ],
   "id": "b55caaeb95a75d11",
   "outputs": [
    {
     "data": {
      "text/plain": [
       "           Entry                                           Organism  \\\n",
       "0     A0A0N7CSQ4  Scolopendra mutilans (Chinese red-headed centi...   \n",
       "1     A0A1L4BJ98                   Hemiscorpius lepturus (Scorpion)   \n",
       "2     A0A6B7FMR5    Vipera ammodytes ammodytes (Western sand viper)   \n",
       "3         A0S864               Boiga irregularis (Brown tree snake)   \n",
       "4         A8YPR6       Echis ocellatus (Ocellated saw-scaled viper)   \n",
       "...          ...                                                ...   \n",
       "1387      W4VS32       Trittame loki (Brush-footed trapdoor spider)   \n",
       "1388      W4VSB6              Conus victoriae (Queen Victoria cone)   \n",
       "1389      W4VSB9       Trittame loki (Brush-footed trapdoor spider)   \n",
       "1390      W4VSG7              Conus victoriae (Queen Victoria cone)   \n",
       "1391      W4VSI6       Trittame loki (Brush-footed trapdoor spider)   \n",
       "\n",
       "                                          Protein names  \\\n",
       "0     Tau-scoloptoxin(04)-Ssm1b (Tau-SLPTX(04)-Ssm1b...   \n",
       "1     Dermonecrotic toxin Hl-PLD1 (EC 4.6.1.-) (Phos...   \n",
       "2     Disintegrin-like/cysteine-rich protein MPIII-3...   \n",
       "3                           Irditoxin subunit A (IrTxA)   \n",
       "4     Snake venom metalloprotease inhibitor 02D01 (0...   \n",
       "...                                                 ...   \n",
       "1387                                       Toxin ICK-15   \n",
       "1388                          Conotoxin Vc7.1 (H_Vc7.1)   \n",
       "1389                                        Toxin ICK-9   \n",
       "1390                              Conotoxin Vc1 (H_Vc1)   \n",
       "1391                                       Toxin ICK-18   \n",
       "\n",
       "                           Protein families  \\\n",
       "0                                     other   \n",
       "1          Arthropod phospholipase D family   \n",
       "2     Venom metalloproteinase (M12B) family   \n",
       "3           Snake three-finger toxin family   \n",
       "4                Natriuretic peptide family   \n",
       "...                                     ...   \n",
       "1387                                  other   \n",
       "1388                                  other   \n",
       "1389                                  other   \n",
       "1390                                  other   \n",
       "1391                                  other   \n",
       "\n",
       "                                               Sequence       Fragment  \\\n",
       "0     MLKSFCILSVFMVLFLAKFPDLCSGEEISPLKIVVRNSEYLNNPCN...  full_seq (SP)   \n",
       "1     MAHCYYNSKRGCNRVMKTVALVVLISTVMVEESRGDSQEDKKRPIW...  full_seq (SP)   \n",
       "2     MIQVLLVIICLAVFPYQVSSIILESGNINNYEVVYPQKVTALPKGA...  full_seq (SP)   \n",
       "3     MKTLLLAVAVVAFVCLGSADQLGLGRQQIDWGQGQAVGPPYTLCFE...  full_seq (SP)   \n",
       "4     MFVSRLAASGLLLLSLLALSLDGKPLPQRQPHHIQPMEQKWLAPDA...  full_seq (SP)   \n",
       "...                                                 ...            ...   \n",
       "1387  MKPIVSILIFCALAVVIMGHPLDSGYGIPHIVEKLPNGQWCKTPGD...  full_seq (SP)   \n",
       "1388  MNTAGRLLLLCLALGLVFESLGIPVADDVEAVRDTDPDEKDPSVHN...  full_seq (SP)   \n",
       "1389  MMKLYSLVIIATLAAAAFAATSEEISAAVSEIISQHQQDLERYAKI...  full_seq (SP)   \n",
       "1390  MRTSGRLLLLCLAVGLLLESQAHPNADAGDATRDVGSDRTSVELSK...  full_seq (SP)   \n",
       "1391  MKTIFALVFCCAIAVVVLGFGENEGSTIDHDQNNCKGPGSRCSNKN...  full_seq (SP)   \n",
       "\n",
       "      Cluster  Cluster_Rep  Train_Cluster_Rep  Val_Cluster_Rep  \\\n",
       "0          15         True              False             True   \n",
       "1         200        False               True            False   \n",
       "2          55         True              False            False   \n",
       "3          44        False               True            False   \n",
       "4          88        False              False             True   \n",
       "...       ...          ...                ...              ...   \n",
       "1387     1298        False               True            False   \n",
       "1388     1295         True               True            False   \n",
       "1389       82        False               True            False   \n",
       "1390     1296         True               True            False   \n",
       "1391     1298         True               True            False   \n",
       "\n",
       "      Test_Cluster_Rep     protein_category  \n",
       "0                False          scoloptoxin  \n",
       "1                False  phospholipase_other  \n",
       "2                 True    metalloproteinase  \n",
       "3                False   three_finger_toxin  \n",
       "4                False                  NaN  \n",
       "...                ...                  ...  \n",
       "1387             False           neurotoxin  \n",
       "1388             False            conotoxin  \n",
       "1389             False           neurotoxin  \n",
       "1390             False            conotoxin  \n",
       "1391             False           neurotoxin  \n",
       "\n",
       "[1392 rows x 12 columns]"
      ],
      "text/html": [
       "<div>\n",
       "<style scoped>\n",
       "    .dataframe tbody tr th:only-of-type {\n",
       "        vertical-align: middle;\n",
       "    }\n",
       "\n",
       "    .dataframe tbody tr th {\n",
       "        vertical-align: top;\n",
       "    }\n",
       "\n",
       "    .dataframe thead th {\n",
       "        text-align: right;\n",
       "    }\n",
       "</style>\n",
       "<table border=\"1\" class=\"dataframe\">\n",
       "  <thead>\n",
       "    <tr style=\"text-align: right;\">\n",
       "      <th></th>\n",
       "      <th>Entry</th>\n",
       "      <th>Organism</th>\n",
       "      <th>Protein names</th>\n",
       "      <th>Protein families</th>\n",
       "      <th>Sequence</th>\n",
       "      <th>Fragment</th>\n",
       "      <th>Cluster</th>\n",
       "      <th>Cluster_Rep</th>\n",
       "      <th>Train_Cluster_Rep</th>\n",
       "      <th>Val_Cluster_Rep</th>\n",
       "      <th>Test_Cluster_Rep</th>\n",
       "      <th>protein_category</th>\n",
       "    </tr>\n",
       "  </thead>\n",
       "  <tbody>\n",
       "    <tr>\n",
       "      <th>0</th>\n",
       "      <td>A0A0N7CSQ4</td>\n",
       "      <td>Scolopendra mutilans (Chinese red-headed centi...</td>\n",
       "      <td>Tau-scoloptoxin(04)-Ssm1b (Tau-SLPTX(04)-Ssm1b...</td>\n",
       "      <td>other</td>\n",
       "      <td>MLKSFCILSVFMVLFLAKFPDLCSGEEISPLKIVVRNSEYLNNPCN...</td>\n",
       "      <td>full_seq (SP)</td>\n",
       "      <td>15</td>\n",
       "      <td>True</td>\n",
       "      <td>False</td>\n",
       "      <td>True</td>\n",
       "      <td>False</td>\n",
       "      <td>scoloptoxin</td>\n",
       "    </tr>\n",
       "    <tr>\n",
       "      <th>1</th>\n",
       "      <td>A0A1L4BJ98</td>\n",
       "      <td>Hemiscorpius lepturus (Scorpion)</td>\n",
       "      <td>Dermonecrotic toxin Hl-PLD1 (EC 4.6.1.-) (Phos...</td>\n",
       "      <td>Arthropod phospholipase D family</td>\n",
       "      <td>MAHCYYNSKRGCNRVMKTVALVVLISTVMVEESRGDSQEDKKRPIW...</td>\n",
       "      <td>full_seq (SP)</td>\n",
       "      <td>200</td>\n",
       "      <td>False</td>\n",
       "      <td>True</td>\n",
       "      <td>False</td>\n",
       "      <td>False</td>\n",
       "      <td>phospholipase_other</td>\n",
       "    </tr>\n",
       "    <tr>\n",
       "      <th>2</th>\n",
       "      <td>A0A6B7FMR5</td>\n",
       "      <td>Vipera ammodytes ammodytes (Western sand viper)</td>\n",
       "      <td>Disintegrin-like/cysteine-rich protein MPIII-3...</td>\n",
       "      <td>Venom metalloproteinase (M12B) family</td>\n",
       "      <td>MIQVLLVIICLAVFPYQVSSIILESGNINNYEVVYPQKVTALPKGA...</td>\n",
       "      <td>full_seq (SP)</td>\n",
       "      <td>55</td>\n",
       "      <td>True</td>\n",
       "      <td>False</td>\n",
       "      <td>False</td>\n",
       "      <td>True</td>\n",
       "      <td>metalloproteinase</td>\n",
       "    </tr>\n",
       "    <tr>\n",
       "      <th>3</th>\n",
       "      <td>A0S864</td>\n",
       "      <td>Boiga irregularis (Brown tree snake)</td>\n",
       "      <td>Irditoxin subunit A (IrTxA)</td>\n",
       "      <td>Snake three-finger toxin family</td>\n",
       "      <td>MKTLLLAVAVVAFVCLGSADQLGLGRQQIDWGQGQAVGPPYTLCFE...</td>\n",
       "      <td>full_seq (SP)</td>\n",
       "      <td>44</td>\n",
       "      <td>False</td>\n",
       "      <td>True</td>\n",
       "      <td>False</td>\n",
       "      <td>False</td>\n",
       "      <td>three_finger_toxin</td>\n",
       "    </tr>\n",
       "    <tr>\n",
       "      <th>4</th>\n",
       "      <td>A8YPR6</td>\n",
       "      <td>Echis ocellatus (Ocellated saw-scaled viper)</td>\n",
       "      <td>Snake venom metalloprotease inhibitor 02D01 (0...</td>\n",
       "      <td>Natriuretic peptide family</td>\n",
       "      <td>MFVSRLAASGLLLLSLLALSLDGKPLPQRQPHHIQPMEQKWLAPDA...</td>\n",
       "      <td>full_seq (SP)</td>\n",
       "      <td>88</td>\n",
       "      <td>False</td>\n",
       "      <td>False</td>\n",
       "      <td>True</td>\n",
       "      <td>False</td>\n",
       "      <td>NaN</td>\n",
       "    </tr>\n",
       "    <tr>\n",
       "      <th>...</th>\n",
       "      <td>...</td>\n",
       "      <td>...</td>\n",
       "      <td>...</td>\n",
       "      <td>...</td>\n",
       "      <td>...</td>\n",
       "      <td>...</td>\n",
       "      <td>...</td>\n",
       "      <td>...</td>\n",
       "      <td>...</td>\n",
       "      <td>...</td>\n",
       "      <td>...</td>\n",
       "      <td>...</td>\n",
       "    </tr>\n",
       "    <tr>\n",
       "      <th>1387</th>\n",
       "      <td>W4VS32</td>\n",
       "      <td>Trittame loki (Brush-footed trapdoor spider)</td>\n",
       "      <td>Toxin ICK-15</td>\n",
       "      <td>other</td>\n",
       "      <td>MKPIVSILIFCALAVVIMGHPLDSGYGIPHIVEKLPNGQWCKTPGD...</td>\n",
       "      <td>full_seq (SP)</td>\n",
       "      <td>1298</td>\n",
       "      <td>False</td>\n",
       "      <td>True</td>\n",
       "      <td>False</td>\n",
       "      <td>False</td>\n",
       "      <td>neurotoxin</td>\n",
       "    </tr>\n",
       "    <tr>\n",
       "      <th>1388</th>\n",
       "      <td>W4VSB6</td>\n",
       "      <td>Conus victoriae (Queen Victoria cone)</td>\n",
       "      <td>Conotoxin Vc7.1 (H_Vc7.1)</td>\n",
       "      <td>other</td>\n",
       "      <td>MNTAGRLLLLCLALGLVFESLGIPVADDVEAVRDTDPDEKDPSVHN...</td>\n",
       "      <td>full_seq (SP)</td>\n",
       "      <td>1295</td>\n",
       "      <td>True</td>\n",
       "      <td>True</td>\n",
       "      <td>False</td>\n",
       "      <td>False</td>\n",
       "      <td>conotoxin</td>\n",
       "    </tr>\n",
       "    <tr>\n",
       "      <th>1389</th>\n",
       "      <td>W4VSB9</td>\n",
       "      <td>Trittame loki (Brush-footed trapdoor spider)</td>\n",
       "      <td>Toxin ICK-9</td>\n",
       "      <td>other</td>\n",
       "      <td>MMKLYSLVIIATLAAAAFAATSEEISAAVSEIISQHQQDLERYAKI...</td>\n",
       "      <td>full_seq (SP)</td>\n",
       "      <td>82</td>\n",
       "      <td>False</td>\n",
       "      <td>True</td>\n",
       "      <td>False</td>\n",
       "      <td>False</td>\n",
       "      <td>neurotoxin</td>\n",
       "    </tr>\n",
       "    <tr>\n",
       "      <th>1390</th>\n",
       "      <td>W4VSG7</td>\n",
       "      <td>Conus victoriae (Queen Victoria cone)</td>\n",
       "      <td>Conotoxin Vc1 (H_Vc1)</td>\n",
       "      <td>other</td>\n",
       "      <td>MRTSGRLLLLCLAVGLLLESQAHPNADAGDATRDVGSDRTSVELSK...</td>\n",
       "      <td>full_seq (SP)</td>\n",
       "      <td>1296</td>\n",
       "      <td>True</td>\n",
       "      <td>True</td>\n",
       "      <td>False</td>\n",
       "      <td>False</td>\n",
       "      <td>conotoxin</td>\n",
       "    </tr>\n",
       "    <tr>\n",
       "      <th>1391</th>\n",
       "      <td>W4VSI6</td>\n",
       "      <td>Trittame loki (Brush-footed trapdoor spider)</td>\n",
       "      <td>Toxin ICK-18</td>\n",
       "      <td>other</td>\n",
       "      <td>MKTIFALVFCCAIAVVVLGFGENEGSTIDHDQNNCKGPGSRCSNKN...</td>\n",
       "      <td>full_seq (SP)</td>\n",
       "      <td>1298</td>\n",
       "      <td>True</td>\n",
       "      <td>True</td>\n",
       "      <td>False</td>\n",
       "      <td>False</td>\n",
       "      <td>neurotoxin</td>\n",
       "    </tr>\n",
       "  </tbody>\n",
       "</table>\n",
       "<p>1392 rows × 12 columns</p>\n",
       "</div>"
      ]
     },
     "execution_count": 57,
     "metadata": {},
     "output_type": "execute_result"
    }
   ],
   "execution_count": 57
  },
  {
   "metadata": {
    "ExecuteTime": {
     "end_time": "2025-03-12T12:45:41.551275Z",
     "start_time": "2025-03-12T12:45:41.546820Z"
    }
   },
   "cell_type": "code",
   "source": "tox[\"protein_category\"].value_counts(dropna=False)",
   "id": "b95f23d0ac58ba99",
   "outputs": [
    {
     "data": {
      "text/plain": [
       "protein_category\n",
       "conotoxin                243\n",
       "NaN                      238\n",
       "neurotoxin               207\n",
       "scorpion_long_toxin       91\n",
       "scoloptoxin               80\n",
       "scorpion_ktx              76\n",
       "metalloproteinase         63\n",
       "three_finger_toxin        63\n",
       "bradykinin_related        51\n",
       "mcd_related               42\n",
       "phospholipase_a2          40\n",
       "cationic_peptide          37\n",
       "snaclec                   24\n",
       "peptidase                 20\n",
       "crisp_related             19\n",
       "venom_kunitz              18\n",
       "antimicrobial_peptide     15\n",
       "phospholipase_other       15\n",
       "scorpion_short_toxin      13\n",
       "teretoxin                  9\n",
       "hormone_related            9\n",
       "disintegrin                4\n",
       "ngf                        4\n",
       "vegf                       3\n",
       "venom_protein_other        3\n",
       "ficolin                    2\n",
       "egf                        2\n",
       "hainantoxin                1\n",
       "Name: count, dtype: int64"
      ]
     },
     "execution_count": 58,
     "metadata": {},
     "output_type": "execute_result"
    }
   ],
   "execution_count": 58
  },
  {
   "metadata": {
    "ExecuteTime": {
     "end_time": "2025-03-12T12:45:45.195578Z",
     "start_time": "2025-03-12T12:45:45.191444Z"
    }
   },
   "cell_type": "code",
   "source": "tox[\"Protein families\"].value_counts(dropna=False)",
   "id": "b67110d0b3dcf6e1",
   "outputs": [
    {
     "data": {
      "text/plain": [
       "Protein families\n",
       "other                                               445\n",
       "Short scorpion toxin superfamily                     81\n",
       "Snake three-finger toxin family                      64\n",
       "Venom metalloproteinase (M12B) family                63\n",
       "Long (4 C-C) scorpion toxin superfamily              61\n",
       "Conotoxin O1 superfamily                             48\n",
       "Conotoxin M superfamily                              44\n",
       "Neurotoxin 10 (Hwtx-1) family                        43\n",
       "MCD family                                           42\n",
       "Conotoxin A superfamily                              42\n",
       "Phospholipase A2 family                              40\n",
       "Bradykinin-potentiating peptide family               38\n",
       "Conotoxin O2 superfamily                             29\n",
       "Conotoxin T superfamily                              28\n",
       "Neurotoxin 02 (plectoxin) family                     26\n",
       "Snaclec family                                       24\n",
       "Venom Kunitz-type family                             23\n",
       "Non-disulfide-bridged peptide (NDBP) superfamily     20\n",
       "Peptidase S1 family                                  20\n",
       "Cationic peptide 04 (cupiennin) family               19\n",
       "CRISP family                                         19\n",
       "Long (3 C-C) scorpion toxin superfamily              18\n",
       "Neurotoxin 03 (Tx2) family                           17\n",
       "Flavin monoamine oxidase family                      16\n",
       "Neurotoxin 14 (magi-1) family                        16\n",
       "Neurotoxin 04 (omega-agtx) family                    16\n",
       "Natriuretic peptide family                           15\n",
       "Arthropod phospholipase D family                     14\n",
       "Conotoxin I1 superfamily                             14\n",
       "Formicidae venom precursor-01 superfamily            12\n",
       "Long chain scorpion toxin family                     12\n",
       "Bradykinin-related peptide family                    12\n",
       "Neurotoxin 19 (CSTX) family                          11\n",
       "Name: count, dtype: int64"
      ]
     },
     "execution_count": 59,
     "metadata": {},
     "output_type": "execute_result"
    }
   ],
   "execution_count": 59
  },
  {
   "metadata": {
    "ExecuteTime": {
     "end_time": "2025-03-12T12:45:46.377758Z",
     "start_time": "2025-03-12T12:45:46.375490Z"
    }
   },
   "cell_type": "code",
   "source": "#tox.loc[tox[\"protein_category\"].isna()][\"Protein families\"].value_counts()",
   "id": "831dd8671a88cfa5",
   "outputs": [],
   "execution_count": 60
  },
  {
   "metadata": {
    "ExecuteTime": {
     "end_time": "2025-03-12T12:45:46.997569Z",
     "start_time": "2025-03-12T12:45:46.993634Z"
    }
   },
   "cell_type": "code",
   "source": "tox[\"protein_category\"].value_counts(dropna=False)",
   "id": "47fc1790e36ed4bc",
   "outputs": [
    {
     "data": {
      "text/plain": [
       "protein_category\n",
       "conotoxin                243\n",
       "NaN                      238\n",
       "neurotoxin               207\n",
       "scorpion_long_toxin       91\n",
       "scoloptoxin               80\n",
       "scorpion_ktx              76\n",
       "metalloproteinase         63\n",
       "three_finger_toxin        63\n",
       "bradykinin_related        51\n",
       "mcd_related               42\n",
       "phospholipase_a2          40\n",
       "cationic_peptide          37\n",
       "snaclec                   24\n",
       "peptidase                 20\n",
       "crisp_related             19\n",
       "venom_kunitz              18\n",
       "antimicrobial_peptide     15\n",
       "phospholipase_other       15\n",
       "scorpion_short_toxin      13\n",
       "teretoxin                  9\n",
       "hormone_related            9\n",
       "disintegrin                4\n",
       "ngf                        4\n",
       "vegf                       3\n",
       "venom_protein_other        3\n",
       "ficolin                    2\n",
       "egf                        2\n",
       "hainantoxin                1\n",
       "Name: count, dtype: int64"
      ]
     },
     "execution_count": 61,
     "metadata": {},
     "output_type": "execute_result"
    }
   ],
   "execution_count": 61
  },
  {
   "metadata": {
    "ExecuteTime": {
     "end_time": "2025-03-12T12:46:00.599015Z",
     "start_time": "2025-03-12T12:46:00.488018Z"
    }
   },
   "cell_type": "code",
   "source": [
    "tox[\"Protein families\"] = tox[\"Protein families\"].fillna(\"other\")\n",
    "tox['Protein families'] = tox['Protein families'].map(lambda x: x if tox['Protein families'].value_counts()[x] > 10 else 'other')\n",
    "tox[\"Protein families\"].value_counts(dropna=False)"
   ],
   "id": "41562a13d2701d2b",
   "outputs": [
    {
     "data": {
      "text/plain": [
       "Protein families\n",
       "other                                               445\n",
       "Short scorpion toxin superfamily                     81\n",
       "Snake three-finger toxin family                      64\n",
       "Venom metalloproteinase (M12B) family                63\n",
       "Long (4 C-C) scorpion toxin superfamily              61\n",
       "Conotoxin O1 superfamily                             48\n",
       "Conotoxin M superfamily                              44\n",
       "Neurotoxin 10 (Hwtx-1) family                        43\n",
       "MCD family                                           42\n",
       "Conotoxin A superfamily                              42\n",
       "Phospholipase A2 family                              40\n",
       "Bradykinin-potentiating peptide family               38\n",
       "Conotoxin O2 superfamily                             29\n",
       "Conotoxin T superfamily                              28\n",
       "Neurotoxin 02 (plectoxin) family                     26\n",
       "Snaclec family                                       24\n",
       "Venom Kunitz-type family                             23\n",
       "Non-disulfide-bridged peptide (NDBP) superfamily     20\n",
       "Peptidase S1 family                                  20\n",
       "Cationic peptide 04 (cupiennin) family               19\n",
       "CRISP family                                         19\n",
       "Long (3 C-C) scorpion toxin superfamily              18\n",
       "Neurotoxin 03 (Tx2) family                           17\n",
       "Flavin monoamine oxidase family                      16\n",
       "Neurotoxin 14 (magi-1) family                        16\n",
       "Neurotoxin 04 (omega-agtx) family                    16\n",
       "Natriuretic peptide family                           15\n",
       "Arthropod phospholipase D family                     14\n",
       "Conotoxin I1 superfamily                             14\n",
       "Formicidae venom precursor-01 superfamily            12\n",
       "Long chain scorpion toxin family                     12\n",
       "Bradykinin-related peptide family                    12\n",
       "Neurotoxin 19 (CSTX) family                          11\n",
       "Name: count, dtype: int64"
      ]
     },
     "execution_count": 62,
     "metadata": {},
     "output_type": "execute_result"
    }
   ],
   "execution_count": 62
  },
  {
   "metadata": {
    "ExecuteTime": {
     "end_time": "2025-03-12T12:50:24.177554Z",
     "start_time": "2025-03-12T12:50:24.050828Z"
    }
   },
   "cell_type": "code",
   "source": [
    "tox[\"protein_category\"] = tox[\"protein_category\"].fillna(\"other\")\n",
    "tox['protein_category'] = tox['protein_category'].map(lambda x: x if tox['protein_category'].value_counts()[x] > 10 else 'other')\n",
    "tox[\"protein_category\"].value_counts(dropna=False)"
   ],
   "id": "159116279d8a2934",
   "outputs": [
    {
     "data": {
      "text/plain": [
       "protein_category\n",
       "other                    275\n",
       "conotoxin                243\n",
       "neurotoxin               207\n",
       "scorpion_long_toxin       91\n",
       "scoloptoxin               80\n",
       "scorpion_ktx              76\n",
       "metalloproteinase         63\n",
       "three_finger_toxin        63\n",
       "bradykinin_related        51\n",
       "mcd_related               42\n",
       "phospholipase_a2          40\n",
       "cationic_peptide          37\n",
       "snaclec                   24\n",
       "peptidase                 20\n",
       "crisp_related             19\n",
       "venom_kunitz              18\n",
       "antimicrobial_peptide     15\n",
       "phospholipase_other       15\n",
       "scorpion_short_toxin      13\n",
       "Name: count, dtype: int64"
      ]
     },
     "execution_count": 72,
     "metadata": {},
     "output_type": "execute_result"
    }
   ],
   "execution_count": 72
  },
  {
   "metadata": {
    "ExecuteTime": {
     "end_time": "2025-03-12T12:50:33.844516Z",
     "start_time": "2025-03-12T12:50:33.840779Z"
    }
   },
   "cell_type": "code",
   "source": "tox[\"Fragment\"].value_counts(dropna=False)",
   "id": "20c41d7e1b284700",
   "outputs": [
    {
     "data": {
      "text/plain": [
       "Fragment\n",
       "full_seq (SP)         578\n",
       "mature_seq (NO_SP)    446\n",
       "fragment              368\n",
       "Name: count, dtype: int64"
      ]
     },
     "execution_count": 73,
     "metadata": {},
     "output_type": "execute_result"
    }
   ],
   "execution_count": 73
  },
  {
   "metadata": {},
   "cell_type": "markdown",
   "source": "### split into train val test",
   "id": "db4b7af9c66d8d5f"
  },
  {
   "metadata": {
    "ExecuteTime": {
     "end_time": "2025-03-12T12:50:34.520524Z",
     "start_time": "2025-03-12T12:50:34.515682Z"
    }
   },
   "cell_type": "code",
   "source": "tox[\"Val_Cluster_Rep\"].value_counts(dropna=False)",
   "id": "98954a44b00de974",
   "outputs": [
    {
     "data": {
      "text/plain": [
       "Val_Cluster_Rep\n",
       "False    1182\n",
       "True      210\n",
       "Name: count, dtype: int64"
      ]
     },
     "execution_count": 74,
     "metadata": {},
     "output_type": "execute_result"
    }
   ],
   "execution_count": 74
  },
  {
   "metadata": {
    "ExecuteTime": {
     "end_time": "2025-03-12T12:50:35.032815Z",
     "start_time": "2025-03-12T12:50:35.024162Z"
    }
   },
   "cell_type": "code",
   "source": "tox.to_csv('data/model_input.csv')",
   "id": "cf42485c2570762a",
   "outputs": [],
   "execution_count": 75
  },
  {
   "metadata": {},
   "cell_type": "code",
   "outputs": [],
   "execution_count": null,
   "source": "",
   "id": "ce874e339e6b53c9"
  }
 ],
 "metadata": {
  "kernelspec": {
   "display_name": "Python 3",
   "language": "python",
   "name": "python3"
  },
  "language_info": {
   "codemirror_mode": {
    "name": "ipython",
    "version": 2
   },
   "file_extension": ".py",
   "mimetype": "text/x-python",
   "name": "python",
   "nbconvert_exporter": "python",
   "pygments_lexer": "ipython2",
   "version": "2.7.6"
  }
 },
 "nbformat": 4,
 "nbformat_minor": 5
}
